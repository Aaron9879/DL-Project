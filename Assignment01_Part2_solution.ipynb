{
 "cells": [
  {
   "cell_type": "markdown",
   "metadata": {
    "id": "yBGe4m13MKhM"
   },
   "source": [
    "# <span style=\"color:#0b486b\">  FIT5215: Deep Learning (2024)</span>\n",
    "***\n",
    "*CE/Lecturer (Clayton):*  **Dr Trung Le** | trunglm@monash.edu <br/>\n",
    "*Lecturer (Clayton):* **Prof Dinh Phung** | dinh.phung@monash.edu <br/>\n",
    "*Lecturer (Malaysia):*  **Dr Arghya Pal** | arghya.pal@monash.edu <br/>\n",
    "*Lecturer (Malaysia):*  **Dr Lim Chern Hong** | lim.chernhong@monash.edu <br/>  <br/>\n",
    "*Head Tutor 3181:*  **Miss Vy Vo** |  \\[v.vo@monash.edu \\] <br/>\n",
    "*Head Tutor 5215:*  **Dr Van Nguyen** |  \\[van.nguyen1@monash.edu \\]\n",
    "\n",
    "<br/> <br/>\n",
    "Faculty of Information Technology, Monash University, Australia\n",
    "***"
   ]
  },
  {
   "cell_type": "markdown",
   "metadata": {
    "id": "-OL1yqeGMc1f"
   },
   "source": [
    "# <span style=\"color:#0b486b\">  Student Information</span>\n",
    "***\n",
    "Surname: **Peng**  <br/>\n",
    "Firstname: **Yuhang**    <br/>\n",
    "Student ID: **34278818**    <br/>\n",
    "Email: **ypen0076@student.monash.edu**    <br/>\n",
    "Your tutorial time: **LAB 05 MON 16:00**    <br/>\n",
    "***"
   ]
  },
  {
   "cell_type": "markdown",
   "metadata": {
    "id": "qcV5D0O8Miro"
   },
   "source": [
    "# <span style=\"color:#0b486b\">Deep Neural Networks</span>\n",
    "### Due: <span style=\"color:red\">11:55pm Sunday, 8 September 2024</span>  (Sunday)\n",
    "\n",
    "#### <span style=\"color:red\">Important note:</span> This is an **individual** assignment. It contributes **20%** to your final mark. Read the assignment instructions carefully."
   ]
  },
  {
   "cell_type": "markdown",
   "metadata": {
    "id": "psTfJNhSMy5Q"
   },
   "source": [
    "## <span style=\"color:#0b486b\">What to submit</span>\n",
    "\n",
    "This assignment is to be completed individually and submitted to Moodle unit site. **By the due date, you are required to submit one  <span style=\"color:red; font-weight:bold\">single zip file, named xxx_assignment01_solution.zip</span> where `xxx` is your student ID, to the corresponding Assignment (Dropbox) in Moodle**. You can use Google Colab to do Assigmnent 1 but you need to save it to an `*.ipynb` file to submit to the unit Moodle.\n",
    "\n",
    "**More importantly, if you use Google Colab to do this assignment, you need to first make a copy of this notebook on your Google drive**."
   ]
  },
  {
   "cell_type": "markdown",
   "metadata": {
    "id": "4qDsCuB0M4-y"
   },
   "source": [
    "***For example, if your student ID is <span style=\"color:red; font-weight:bold\">12356</span>, then gather all of your assignment solution to folder, create a zip file named <span style=\"color:red; font-weight:bold\">123456_assignment01_solution.zip</span> and submit this file.***"
   ]
  },
  {
   "cell_type": "markdown",
   "metadata": {
    "id": "5f1tbgtRM9XO"
   },
   "source": [
    "Within this zip folder, you **must** submit the following files:\n",
    "1.\t**Assignment01_solution.ipynb**:  this is your Python notebook solution source file.\n",
    "1.\t**Assignment01_output.html**: this is the output of your Python notebook solution *exported* in html format.\n",
    "1.\tAny **extra files or folder** needed to complete your assignment (e.g., images used in your answers)."
   ]
  },
  {
   "cell_type": "markdown",
   "metadata": {
    "id": "b3T3dilWNG29"
   },
   "source": [
    "Since the notebook is quite big to load and work together, one recommended option is to split solution into three parts and work on them seperately. In that case, replace **Assignment01_solution.ipynb** by three notebooks: **Assignment01_Part1_solution.ipynb**, **Assignment01_Part2_solution.ipynb** and **Assignment01_Part3_solution.ipynb**"
   ]
  },
  {
   "cell_type": "markdown",
   "metadata": {
    "id": "t9Krbduz1r69"
   },
   "source": [
    "**You can run your codes on Google Colab. In this case, you have to make a copy of your Google colab notebook including the traces and progresses of model training before submitting.**\n",
    "\n"
   ]
  },
  {
   "cell_type": "markdown",
   "metadata": {
    "id": "ivgfgyr_eDgr"
   },
   "source": [
    "## <span style=\"color:#0b486b\">Part 2: Deep Neural Networks (DNN) </span>\n",
    "<div style=\"text-align: right\"><span style=\"color:red; font-weight:bold\">[Total marks for this part: 25 points]<span></div>\n",
    "\n",
    "The second part of this assignment is to demonstrate your basis knowledge in deep learning that you have acquired from the lectures and tutorials materials. Most of the contents in this assignment are drawn from **the tutorials covered from weeks 1 to 2**. Going through these materials before attempting this assignment is highly recommended."
   ]
  },
  {
   "cell_type": "markdown",
   "metadata": {
    "id": "jIUUFYGweODG"
   },
   "source": [
    "In the second part of this assignment, you are going to work with the FashionMNIST dataset for image recognition task. It has the exact same format as MNIST (70,000 grayscale images of 28 × 28 pixels each with 10 classes), but the images represent fashion items rather than handwritten digits, so each class is more diverse, and the problem is significantly more challenging than MNIST."
   ]
  },
  {
   "cell_type": "code",
   "execution_count": 1,
   "metadata": {
    "ExecuteTime": {
     "end_time": "2024-08-25T05:05:26.802381Z",
     "start_time": "2024-08-25T05:05:08.262950Z"
    },
    "id": "7xIkwylWDRJQ"
   },
   "outputs": [
    {
     "data": {
      "text/plain": [
       "<torch._C.Generator at 0x1077a38f0>"
      ]
     },
     "execution_count": 1,
     "metadata": {},
     "output_type": "execute_result"
    }
   ],
   "source": [
    "import math\n",
    "import numpy as np\n",
    "import torch\n",
    "import torch.nn as nn\n",
    "import torch.optim as optim\n",
    "import torch.nn.functional as F\n",
    "from torch.utils.data import DataLoader\n",
    "from torchvision import datasets, transforms\n",
    "import matplotlib.pyplot as plt\n",
    "from sklearn.model_selection import ParameterGrid\n",
    "\n",
    "torch.manual_seed(1234)"
   ]
  },
  {
   "cell_type": "markdown",
   "metadata": {
    "id": "FfEhiEr2eYqc"
   },
   "source": [
    "**Load the Fashion MNIST using `torchvision`**"
   ]
  },
  {
   "cell_type": "code",
   "execution_count": 2,
   "metadata": {
    "ExecuteTime": {
     "end_time": "2024-08-24T14:55:31.707597Z",
     "start_time": "2024-08-24T14:55:31.598901Z"
    },
    "colab": {
     "base_uri": "https://localhost:8080/"
    },
    "id": "y5FnvI8LeD6X",
    "outputId": "4019f4f3-2c0e-40bc-b7fd-2b4b7addedb8"
   },
   "outputs": [
    {
     "name": "stdout",
     "output_type": "stream",
     "text": [
      "torch.Size([60000, 28, 28]) torch.Size([60000])\n",
      "torch.Size([10000, 28, 28]) torch.Size([10000])\n",
      "torch.Size([60000, 784]) torch.Size([60000])\n",
      "torch.Size([10000, 784]) torch.Size([10000])\n",
      "Number of total samples: 60000\n",
      "Number of training samples: 54000\n",
      "Number of validation samples: 6000\n"
     ]
    }
   ],
   "source": [
    "transform = transforms.Compose([transforms.ToTensor(), transforms.Normalize((0.5,), (0.5,))])\n",
    "\n",
    "train_dataset_orgin = datasets.FashionMNIST(root='./data', train=True, download=True, transform=transform)\n",
    "test_dataset = datasets.FashionMNIST(root='./data', train=False, download=True, transform=transform)\n",
    "\n",
    "print(train_dataset_orgin.data.shape, train_dataset_orgin.targets.shape)\n",
    "print(test_dataset.data.shape, test_dataset.targets.shape)\n",
    "\n",
    "train_dataset_orgin.data = train_dataset_orgin.data.view(-1, 28*28)\n",
    "test_dataset.data = test_dataset.data.view(-1, 28*28)\n",
    "\n",
    "print(train_dataset_orgin.data.shape, train_dataset_orgin.targets.shape)\n",
    "print(test_dataset.data.shape, test_dataset.targets.shape)\n",
    "\n",
    "N = len(train_dataset_orgin)\n",
    "N_train = int(0.9*N)\n",
    "N_val = N - N_train\n",
    "\n",
    "train_dataset, val_dataset = torch.utils.data.random_split(train_dataset_orgin, [N_train, N_val])\n",
    "\n",
    "train_loader = DataLoader(dataset=train_dataset, batch_size=64, shuffle=True)\n",
    "val_loader = DataLoader(dataset=val_dataset, batch_size=64, shuffle=False)\n",
    "test_loader = DataLoader(dataset=test_dataset, batch_size=1000, shuffle=False)\n",
    "\n",
    "print(f\"Number of total samples: {N}\")\n",
    "print(f\"Number of training samples: {N_train}\")\n",
    "print(f\"Number of validation samples: {N_val}\")"
   ]
  },
  {
   "cell_type": "markdown",
   "metadata": {
    "id": "YA9-AmjXacfo"
   },
   "source": [
    "####  <span style=\"color:red\">**Question 2.1:**</span> Write the code to visualize a mini-batch in `train_loader` including its images and labels.\n",
    "\n",
    "<div style=\"text-align: right\"> <span style=\"color:red\">[5 points]</span> </div>"
   ]
  },
  {
   "cell_type": "code",
   "execution_count": 3,
   "metadata": {
    "ExecuteTime": {
     "end_time": "2024-08-24T15:00:55.206324Z",
     "start_time": "2024-08-24T15:00:49.857993Z"
    },
    "id": "hQaLAtDJa0cA"
   },
   "outputs": [
    {
     "data": {
      "image/png": "[encoded data removed]",
      "text/plain": [
       "<Figure size 1200x1200 with 64 Axes>"
      ]
     },
     "metadata": {},
     "output_type": "display_data"
    }
   ],
   "source": [
    "#Your code here\n",
    "def imshow(img):\n",
    "    img = img.reshape(28, 28)\n",
    "    plt.imshow(img, cmap='gray') \n",
    "    \n",
    "def visualise_data(images, categories, images_per_row=8):\n",
    "    class_names = ['T-shirt/top', 'Trouser', 'Pullover', 'Dress', 'Coat', \n",
    "                   'Sandal', 'Shirt', 'Sneaker', 'Bag', 'Ankle boot']\n",
    "    n_images = len(images)\n",
    "    n_rows = math.ceil(float(n_images) / images_per_row)\n",
    "    fig = plt.figure(figsize=(1.5 * images_per_row, 1.5 * n_rows))\n",
    "    fig.patch.set_facecolor('white')\n",
    "    for i in range(n_images):\n",
    "        plt.subplot(n_rows, images_per_row, i+1)\n",
    "        plt.xticks([])\n",
    "        plt.yticks([])\n",
    "        imshow(images[i])\n",
    "        class_index = categories[i]\n",
    "        plt.xlabel(class_names[class_index])\n",
    "    plt.show()\n",
    "    \n",
    "dataiter = iter(train_loader)\n",
    "images, labels = next(dataiter)\n",
    "images = images.numpy() # convert images to numpy for display\n",
    "\n",
    "visualise_data(images, labels)"
   ]
  },
  {
   "cell_type": "markdown",
   "metadata": {
    "id": "rbAPbf5YFIUT"
   },
   "source": [
    "<span style=\"color:red\">**Question 2.2:**</span> Write the code for the feed-forward neural net using PyTorch\n",
    "\n",
    "<div style=\"text-align: right\"> <span style=\"color:red\">[5 points]</span> </div>"
   ]
  },
  {
   "cell_type": "markdown",
   "metadata": {
    "id": "63T9d4mlFT3v"
   },
   "source": [
    "We now develop a feed-forward neural network with the architecture $784 \\rightarrow 40(ReLU) \\rightarrow 30(ReLU) \\rightarrow 10(softmax)$. You can choose your own way to implement your network and an optimizer of interest. You should train model in $20$ epochs and evaluate the trained model on the test set."
   ]
  },
  {
   "cell_type": "code",
   "execution_count": 4,
   "metadata": {
    "ExecuteTime": {
     "end_time": "2024-08-24T15:29:55.372089Z",
     "start_time": "2024-08-24T15:29:55.359052Z"
    },
    "id": "f_vP1pLTEJsI"
   },
   "outputs": [],
   "source": [
    "#Your code here\n",
    "class FeedForwardNN(nn.Module):\n",
    "    \n",
    "    def __init__(self):\n",
    "        super(FeedForwardNN, self).__init__()\n",
    "        self.fc1 = nn.Linear(28*28, 40)\n",
    "        self.fc2 = nn.Linear(40, 30)\n",
    "        self.fc3 = nn.Linear(30, 10)\n",
    "        self.relu = nn.ReLU()\n",
    "        \n",
    "    def forward(self, x):\n",
    "        x = x.view(x.size(0), -1)\n",
    "        x = self.relu(self.fc1(x))\n",
    "        x = self.relu(self.fc2(x))\n",
    "        x = self.fc3(x) # output the logits\n",
    "        return x"
   ]
  },
  {
   "cell_type": "code",
   "execution_count": 5,
   "metadata": {
    "ExecuteTime": {
     "end_time": "2024-08-24T15:20:49.894700Z",
     "start_time": "2024-08-24T15:20:49.886228Z"
    }
   },
   "outputs": [],
   "source": [
    "device = torch.device(\"cuda\" if torch.cuda.is_available() else \"cpu\")"
   ]
  },
  {
   "cell_type": "code",
   "execution_count": 6,
   "metadata": {
    "ExecuteTime": {
     "end_time": "2024-08-24T15:26:17.323444Z",
     "start_time": "2024-08-24T15:26:17.312748Z"
    }
   },
   "outputs": [],
   "source": [
    "def compute_loss(model, data_loader):\n",
    "    \"\"\"\n",
    "    This function computes the loss of the model on a data loader\n",
    "    \"\"\"\n",
    "    #Your code here\n",
    "    loss = 0.0\n",
    "    # Set model to eval mode for inference\n",
    "    model.eval()\n",
    "    with torch.no_grad():\n",
    "        for (batchX, batchY) in data_loader:\n",
    "            # Move data to the same device as the model\n",
    "            batchX, batchY = batchX.to(device), batchY.to(device)\n",
    "            loss += loss_fn(model(batchX), batchY)\n",
    "    model.train()\n",
    "    return loss / len(data_loader)"
   ]
  },
  {
   "cell_type": "code",
   "execution_count": 7,
   "metadata": {
    "ExecuteTime": {
     "end_time": "2024-08-24T15:20:51.658660Z",
     "start_time": "2024-08-24T15:20:51.647359Z"
    }
   },
   "outputs": [],
   "source": [
    "def compute_acc(model, data_loader):\n",
    "    \"\"\"\n",
    "    This function computes the accuracy of the model on a data loader\n",
    "    \"\"\"\n",
    "    #Your code here\n",
    "    correct = 0\n",
    "    totals = 0\n",
    "    # Set model to eval mode for inference\n",
    "    model.eval()\n",
    "    for (batchX, batchY) in data_loader:\n",
    "        # Move batchX and batchY to the same device as the model\n",
    "        batchX, batchY = batchX.to(device), batchY.to(device)\n",
    "        outputs = model(batchX) # feed batch to the model\n",
    "        totals += batchY.size(0) # accumulate totals with the current batch size\n",
    "        predicted = torch.argmax(outputs.data, 1) # get the predicted class\n",
    "        correct += (predicted == batchY).sum().item()\n",
    "    model.train()\n",
    "    return correct / totals"
   ]
  },
  {
   "cell_type": "code",
   "execution_count": 9,
   "metadata": {
    "ExecuteTime": {
     "end_time": "2024-08-24T15:38:13.239796Z",
     "start_time": "2024-08-24T15:30:59.417224Z"
    }
   },
   "outputs": [
    {
     "name": "stdout",
     "output_type": "stream",
     "text": [
      "Epoch 1/20, Train Loss: 0.6353, Train Acc: 76.58%, Val Loss: 0.6631, Val Acc: 75.67%\n",
      "Epoch 2/20, Train Loss: 0.5319, Train Acc: 80.71%, Val Loss: 0.5665, Val Acc: 79.78%\n",
      "Epoch 3/20, Train Loss: 0.4847, Train Acc: 82.59%, Val Loss: 0.5216, Val Acc: 81.13%\n",
      "Epoch 4/20, Train Loss: 0.4557, Train Acc: 83.74%, Val Loss: 0.4960, Val Acc: 82.28%\n",
      "Epoch 5/20, Train Loss: 0.4359, Train Acc: 84.59%, Val Loss: 0.4758, Val Acc: 82.98%\n",
      "Epoch 6/20, Train Loss: 0.4269, Train Acc: 84.77%, Val Loss: 0.4659, Val Acc: 83.42%\n",
      "Epoch 7/20, Train Loss: 0.4257, Train Acc: 84.73%, Val Loss: 0.4723, Val Acc: 83.42%\n",
      "Epoch 8/20, Train Loss: 0.4103, Train Acc: 85.26%, Val Loss: 0.4519, Val Acc: 83.72%\n",
      "Epoch 9/20, Train Loss: 0.3966, Train Acc: 85.81%, Val Loss: 0.4460, Val Acc: 84.32%\n",
      "Epoch 10/20, Train Loss: 0.3834, Train Acc: 86.31%, Val Loss: 0.4317, Val Acc: 84.58%\n",
      "Epoch 11/20, Train Loss: 0.3754, Train Acc: 86.71%, Val Loss: 0.4268, Val Acc: 85.17%\n",
      "Epoch 12/20, Train Loss: 0.3677, Train Acc: 86.91%, Val Loss: 0.4223, Val Acc: 85.17%\n",
      "Epoch 13/20, Train Loss: 0.3678, Train Acc: 86.83%, Val Loss: 0.4194, Val Acc: 85.62%\n",
      "Epoch 14/20, Train Loss: 0.3572, Train Acc: 87.14%, Val Loss: 0.4080, Val Acc: 86.00%\n",
      "Epoch 15/20, Train Loss: 0.3588, Train Acc: 87.10%, Val Loss: 0.4122, Val Acc: 85.87%\n",
      "Epoch 16/20, Train Loss: 0.3449, Train Acc: 87.71%, Val Loss: 0.4036, Val Acc: 86.15%\n",
      "Epoch 17/20, Train Loss: 0.3396, Train Acc: 87.75%, Val Loss: 0.3948, Val Acc: 86.15%\n",
      "Epoch 18/20, Train Loss: 0.3329, Train Acc: 88.05%, Val Loss: 0.3944, Val Acc: 86.35%\n",
      "Epoch 19/20, Train Loss: 0.3281, Train Acc: 88.18%, Val Loss: 0.3907, Val Acc: 86.25%\n",
      "Epoch 20/20, Train Loss: 0.3280, Train Acc: 88.11%, Val Loss: 0.3919, Val Acc: 86.38%\n"
     ]
    }
   ],
   "source": [
    "model = FeedForwardNN().to(device)\n",
    "loss_fn = nn.CrossEntropyLoss()\n",
    "optimizer = optim.SGD(model.parameters(), lr=0.01)\n",
    "\n",
    "# train the model\n",
    "epochs = 20\n",
    "for epoch in range(epochs):\n",
    "    model.train()\n",
    "    for images, labels in train_loader:\n",
    "        images, labels = images.to(device), labels.to(device)\n",
    "        outputs = model(images)\n",
    "        loss = loss_fn(outputs, labels)\n",
    "        optimizer.zero_grad()\n",
    "        loss.backward()\n",
    "        optimizer.step()\n",
    "    train_acc = compute_acc(model, train_loader)\n",
    "    train_loss = compute_loss(model, train_loader)\n",
    "    val_acc = compute_acc(model, val_loader)\n",
    "    val_loss = compute_loss(model, val_loader)\n",
    "    print(f\"Epoch {epoch+1}/{epochs}, Train Loss: {train_loss:.4f}, Train Acc: {train_acc*100:.2f}%, Val Loss: {val_loss:.4f}, Val Acc: {val_acc*100:.2f}%\")"
   ]
  },
  {
   "cell_type": "code",
   "execution_count": 10,
   "metadata": {},
   "outputs": [
    {
     "name": "stdout",
     "output_type": "stream",
     "text": [
      "Accuracy of the network on the test set: 85.85%\n"
     ]
    }
   ],
   "source": [
    "test_acc = compute_acc(model, test_loader)\n",
    "\n",
    "print(f'Accuracy of the network on the test set: {test_acc*100:.2f}%')"
   ]
  },
  {
   "cell_type": "markdown",
   "metadata": {
    "id": "fL8l6YsdFPyC"
   },
   "source": [
    "####  <span style=\"color:red\">**Question 2.3:**</span> Tuning hyper-parameters with grid search\n",
    "<div style=\"text-align: right\"> <span style=\"color:red\">[5 points]</span> </div>\n"
   ]
  },
  {
   "cell_type": "markdown",
   "metadata": {
    "id": "NTFLMzEMFexC"
   },
   "source": [
    "Assume that you need to tune the number of neurons on the first and second hidden layers $n_1 \\in \\{20, 40\\}$, $n_2 \\in \\{20, 40\\}$  and the used activation function  $act \\in \\{sigmoid, tanh, relu\\}$. The network has the architecture pattern $784 \\rightarrow n_1 (act) \\rightarrow n_2(act) \\rightarrow 10(softmax)$ where $n_1, n_2$, and $act$ are in their grides. Write the code to tune the hyper-parameters $n_1, n_2$, and $act$. Note that you can freely choose the optimizer and learning rate of interest for this task."
   ]
  },
  {
   "cell_type": "code",
   "execution_count": 11,
   "metadata": {
    "ExecuteTime": {
     "end_time": "2024-08-24T15:38:34.711624Z",
     "start_time": "2024-08-24T15:38:34.698473Z"
    },
    "id": "my69QbE4FuHO"
   },
   "outputs": [],
   "source": [
    "#Your code here\n",
    "class CustomFeedForwardNN(nn.Module):\n",
    "    def __init__(self, n1, n2, activation_func):\n",
    "        super(CustomFeedForwardNN, self).__init__()\n",
    "        self.fc1 = nn.Linear(28*28, n1)\n",
    "        self.fc2 = nn.Linear(n1, n2)\n",
    "        self.fc3 = nn.Linear(n2, 10)\n",
    "        self.activation_func = activation_func\n",
    "    \n",
    "    def forward(self, x):\n",
    "        x = x.view(x.size(0), -1)  # Flatten (batch_size, 1, 28, 28) to (batch_size, 784)\n",
    "        x = self.activation_func(self.fc1(x))\n",
    "        x = self.activation_func(self.fc2(x))\n",
    "        x = self.fc3(x)\n",
    "        return x"
   ]
  },
  {
   "cell_type": "code",
   "execution_count": 12,
   "metadata": {
    "ExecuteTime": {
     "end_time": "2024-08-24T15:38:35.424666Z",
     "start_time": "2024-08-24T15:38:35.406140Z"
    }
   },
   "outputs": [
    {
     "data": {
      "text/plain": [
       "[{'activation_func': Sigmoid(), 'n1': 20, 'n2': 20},\n",
       " {'activation_func': Sigmoid(), 'n1': 20, 'n2': 40},\n",
       " {'activation_func': Sigmoid(), 'n1': 40, 'n2': 20},\n",
       " {'activation_func': Sigmoid(), 'n1': 40, 'n2': 40},\n",
       " {'activation_func': Tanh(), 'n1': 20, 'n2': 20},\n",
       " {'activation_func': Tanh(), 'n1': 20, 'n2': 40},\n",
       " {'activation_func': Tanh(), 'n1': 40, 'n2': 20},\n",
       " {'activation_func': Tanh(), 'n1': 40, 'n2': 40},\n",
       " {'activation_func': ReLU(), 'n1': 20, 'n2': 20},\n",
       " {'activation_func': ReLU(), 'n1': 20, 'n2': 40},\n",
       " {'activation_func': ReLU(), 'n1': 40, 'n2': 20},\n",
       " {'activation_func': ReLU(), 'n1': 40, 'n2': 40}]"
      ]
     },
     "execution_count": 12,
     "metadata": {},
     "output_type": "execute_result"
    }
   ],
   "source": [
    "param_grid = {\n",
    "    'n1': [20, 40],\n",
    "    'n2': [20, 40],\n",
    "    'activation_func': [nn.Sigmoid(), nn.Tanh(), nn.ReLU()]\n",
    "}\n",
    "\n",
    "grid = list(ParameterGrid(param_grid))\n",
    "grid"
   ]
  },
  {
   "cell_type": "code",
   "execution_count": 13,
   "metadata": {
    "scrolled": true
   },
   "outputs": [
    {
     "name": "stdout",
     "output_type": "stream",
     "text": [
      "\n",
      "Testing parameters: n1 = 20, n2 = 20, activation_func = Sigmoid()\n",
      "Epoch 1/20, Train Loss: 2.2482, Train Acc: 25.03%, Val Loss: 2.2492, Val Acc: 24.72%\n",
      "Epoch 2/20, Train Loss: 2.1052, Train Acc: 27.31%, Val Loss: 2.1080, Val Acc: 26.60%\n",
      "Epoch 3/20, Train Loss: 1.8882, Train Acc: 29.27%, Val Loss: 1.8927, Val Acc: 29.37%\n",
      "Epoch 4/20, Train Loss: 1.7531, Train Acc: 35.15%, Val Loss: 1.7595, Val Acc: 34.15%\n",
      "Epoch 5/20, Train Loss: 1.6734, Train Acc: 43.48%, Val Loss: 1.6799, Val Acc: 42.30%\n",
      "Epoch 6/20, Train Loss: 1.6017, Train Acc: 47.99%, Val Loss: 1.6097, Val Acc: 46.72%\n",
      "Epoch 7/20, Train Loss: 1.5191, Train Acc: 49.19%, Val Loss: 1.5287, Val Acc: 48.03%\n",
      "Epoch 8/20, Train Loss: 1.4271, Train Acc: 51.98%, Val Loss: 1.4384, Val Acc: 51.12%\n",
      "Epoch 9/20, Train Loss: 1.3396, Train Acc: 50.59%, Val Loss: 1.3543, Val Acc: 49.70%\n",
      "Epoch 10/20, Train Loss: 1.2647, Train Acc: 52.87%, Val Loss: 1.2817, Val Acc: 51.53%\n",
      "Epoch 11/20, Train Loss: 1.2029, Train Acc: 54.51%, Val Loss: 1.2219, Val Acc: 53.40%\n",
      "Epoch 12/20, Train Loss: 1.1517, Train Acc: 57.20%, Val Loss: 1.1724, Val Acc: 55.83%\n",
      "Epoch 13/20, Train Loss: 1.1081, Train Acc: 59.38%, Val Loss: 1.1307, Val Acc: 58.58%\n",
      "Epoch 14/20, Train Loss: 1.0691, Train Acc: 61.72%, Val Loss: 1.0915, Val Acc: 60.77%\n",
      "Epoch 15/20, Train Loss: 1.0340, Train Acc: 62.29%, Val Loss: 1.0571, Val Acc: 61.57%\n",
      "Epoch 16/20, Train Loss: 1.0008, Train Acc: 63.86%, Val Loss: 1.0235, Val Acc: 62.80%\n",
      "Epoch 17/20, Train Loss: 0.9689, Train Acc: 64.41%, Val Loss: 0.9912, Val Acc: 63.40%\n",
      "Epoch 18/20, Train Loss: 0.9376, Train Acc: 66.48%, Val Loss: 0.9600, Val Acc: 65.10%\n",
      "Epoch 19/20, Train Loss: 0.9058, Train Acc: 67.73%, Val Loss: 0.9280, Val Acc: 66.20%\n",
      "Epoch 20/20, Train Loss: 0.8719, Train Acc: 70.21%, Val Loss: 0.8935, Val Acc: 68.58%\n",
      "\n",
      "Testing parameters: n1 = 20, n2 = 40, activation_func = Sigmoid()\n",
      "Epoch 1/20, Train Loss: 2.2516, Train Acc: 40.09%, Val Loss: 2.2532, Val Acc: 38.23%\n",
      "Epoch 2/20, Train Loss: 2.1089, Train Acc: 40.49%, Val Loss: 2.1120, Val Acc: 39.42%\n",
      "Epoch 3/20, Train Loss: 1.8489, Train Acc: 44.14%, Val Loss: 1.8552, Val Acc: 43.05%\n",
      "Epoch 4/20, Train Loss: 1.6302, Train Acc: 50.73%, Val Loss: 1.6392, Val Acc: 49.60%\n",
      "Epoch 5/20, Train Loss: 1.4560, Train Acc: 53.43%, Val Loss: 1.4687, Val Acc: 52.35%\n",
      "Epoch 6/20, Train Loss: 1.3122, Train Acc: 56.23%, Val Loss: 1.3262, Val Acc: 55.58%\n",
      "Epoch 7/20, Train Loss: 1.2010, Train Acc: 59.20%, Val Loss: 1.2173, Val Acc: 59.03%\n",
      "Epoch 8/20, Train Loss: 1.1149, Train Acc: 62.09%, Val Loss: 1.1317, Val Acc: 61.57%\n",
      "Epoch 9/20, Train Loss: 1.0464, Train Acc: 62.41%, Val Loss: 1.0645, Val Acc: 61.87%\n",
      "Epoch 10/20, Train Loss: 0.9901, Train Acc: 64.91%, Val Loss: 1.0081, Val Acc: 64.73%\n",
      "Epoch 11/20, Train Loss: 0.9405, Train Acc: 67.63%, Val Loss: 0.9591, Val Acc: 67.25%\n",
      "Epoch 12/20, Train Loss: 0.8965, Train Acc: 69.67%, Val Loss: 0.9150, Val Acc: 69.50%\n",
      "Epoch 13/20, Train Loss: 0.8560, Train Acc: 69.81%, Val Loss: 0.8746, Val Acc: 69.73%\n",
      "Epoch 14/20, Train Loss: 0.8198, Train Acc: 71.43%, Val Loss: 0.8379, Val Acc: 71.03%\n",
      "Epoch 15/20, Train Loss: 0.7877, Train Acc: 73.29%, Val Loss: 0.8067, Val Acc: 72.88%\n",
      "Epoch 16/20, Train Loss: 0.7601, Train Acc: 73.27%, Val Loss: 0.7803, Val Acc: 72.58%\n",
      "Epoch 17/20, Train Loss: 0.7359, Train Acc: 74.58%, Val Loss: 0.7569, Val Acc: 73.75%\n",
      "Epoch 18/20, Train Loss: 0.7141, Train Acc: 74.87%, Val Loss: 0.7360, Val Acc: 74.45%\n",
      "Epoch 19/20, Train Loss: 0.6946, Train Acc: 75.28%, Val Loss: 0.7185, Val Acc: 74.47%\n",
      "Epoch 20/20, Train Loss: 0.6769, Train Acc: 75.94%, Val Loss: 0.7013, Val Acc: 75.10%\n",
      "\n",
      "Testing parameters: n1 = 40, n2 = 20, activation_func = Sigmoid()\n",
      "Epoch 1/20, Train Loss: 2.2692, Train Acc: 34.86%, Val Loss: 2.2696, Val Acc: 35.32%\n",
      "Epoch 2/20, Train Loss: 2.1787, Train Acc: 38.84%, Val Loss: 2.1811, Val Acc: 38.43%\n",
      "Epoch 3/20, Train Loss: 1.9288, Train Acc: 37.20%, Val Loss: 1.9353, Val Acc: 36.13%\n",
      "Epoch 4/20, Train Loss: 1.6344, Train Acc: 42.70%, Val Loss: 1.6442, Val Acc: 41.55%\n",
      "Epoch 5/20, Train Loss: 1.4483, Train Acc: 48.28%, Val Loss: 1.4606, Val Acc: 47.65%\n",
      "Epoch 6/20, Train Loss: 1.3319, Train Acc: 52.43%, Val Loss: 1.3460, Val Acc: 51.43%\n",
      "Epoch 7/20, Train Loss: 1.2474, Train Acc: 56.03%, Val Loss: 1.2623, Val Acc: 55.00%\n",
      "Epoch 8/20, Train Loss: 1.1770, Train Acc: 62.36%, Val Loss: 1.1926, Val Acc: 60.72%\n",
      "Epoch 9/20, Train Loss: 1.1134, Train Acc: 65.25%, Val Loss: 1.1286, Val Acc: 64.27%\n",
      "Epoch 10/20, Train Loss: 1.0534, Train Acc: 65.03%, Val Loss: 1.0692, Val Acc: 64.32%\n",
      "Epoch 11/20, Train Loss: 0.9964, Train Acc: 69.39%, Val Loss: 1.0123, Val Acc: 68.28%\n",
      "Epoch 12/20, Train Loss: 0.9427, Train Acc: 70.35%, Val Loss: 0.9585, Val Acc: 69.53%\n",
      "Epoch 13/20, Train Loss: 0.8918, Train Acc: 72.59%, Val Loss: 0.9082, Val Acc: 71.78%\n",
      "Epoch 14/20, Train Loss: 0.8460, Train Acc: 74.20%, Val Loss: 0.8627, Val Acc: 73.27%\n",
      "Epoch 15/20, Train Loss: 0.8062, Train Acc: 74.65%, Val Loss: 0.8235, Val Acc: 73.63%\n",
      "Epoch 16/20, Train Loss: 0.7700, Train Acc: 75.36%, Val Loss: 0.7875, Val Acc: 74.17%\n",
      "Epoch 17/20, Train Loss: 0.7391, Train Acc: 75.72%, Val Loss: 0.7580, Val Acc: 74.50%\n",
      "Epoch 18/20, Train Loss: 0.7127, Train Acc: 76.20%, Val Loss: 0.7326, Val Acc: 74.92%\n",
      "Epoch 19/20, Train Loss: 0.6897, Train Acc: 76.47%, Val Loss: 0.7105, Val Acc: 75.18%\n",
      "Epoch 20/20, Train Loss: 0.6699, Train Acc: 76.89%, Val Loss: 0.6918, Val Acc: 75.53%\n",
      "\n",
      "Testing parameters: n1 = 40, n2 = 40, activation_func = Sigmoid()\n",
      "Epoch 1/20, Train Loss: 2.2683, Train Acc: 21.91%, Val Loss: 2.2689, Val Acc: 20.85%\n",
      "Epoch 2/20, Train Loss: 2.1505, Train Acc: 41.37%, Val Loss: 2.1536, Val Acc: 40.18%\n",
      "Epoch 3/20, Train Loss: 1.8475, Train Acc: 39.56%, Val Loss: 1.8548, Val Acc: 38.87%\n",
      "Epoch 4/20, Train Loss: 1.5937, Train Acc: 48.86%, Val Loss: 1.6034, Val Acc: 47.70%\n",
      "Epoch 5/20, Train Loss: 1.4159, Train Acc: 52.15%, Val Loss: 1.4284, Val Acc: 51.15%\n",
      "Epoch 6/20, Train Loss: 1.2867, Train Acc: 56.26%, Val Loss: 1.3011, Val Acc: 54.82%\n",
      "Epoch 7/20, Train Loss: 1.1832, Train Acc: 59.71%, Val Loss: 1.1992, Val Acc: 58.77%\n",
      "Epoch 8/20, Train Loss: 1.0937, Train Acc: 62.69%, Val Loss: 1.1099, Val Acc: 62.27%\n",
      "Epoch 9/20, Train Loss: 1.0159, Train Acc: 66.62%, Val Loss: 1.0322, Val Acc: 66.10%\n",
      "Epoch 10/20, Train Loss: 0.9494, Train Acc: 67.84%, Val Loss: 0.9665, Val Acc: 67.65%\n",
      "Epoch 11/20, Train Loss: 0.8931, Train Acc: 70.60%, Val Loss: 0.9107, Val Acc: 70.27%\n",
      "Epoch 12/20, Train Loss: 0.8451, Train Acc: 70.52%, Val Loss: 0.8634, Val Acc: 70.33%\n",
      "Epoch 13/20, Train Loss: 0.8038, Train Acc: 71.74%, Val Loss: 0.8227, Val Acc: 71.45%\n",
      "Epoch 14/20, Train Loss: 0.7681, Train Acc: 72.92%, Val Loss: 0.7870, Val Acc: 72.23%\n",
      "Epoch 15/20, Train Loss: 0.7376, Train Acc: 74.55%, Val Loss: 0.7569, Val Acc: 73.68%\n",
      "Epoch 16/20, Train Loss: 0.7100, Train Acc: 75.18%, Val Loss: 0.7300, Val Acc: 74.10%\n",
      "Epoch 17/20, Train Loss: 0.6854, Train Acc: 75.77%, Val Loss: 0.7053, Val Acc: 74.58%\n",
      "Epoch 18/20, Train Loss: 0.6632, Train Acc: 76.59%, Val Loss: 0.6839, Val Acc: 75.33%\n",
      "Epoch 19/20, Train Loss: 0.6438, Train Acc: 77.23%, Val Loss: 0.6652, Val Acc: 76.15%\n",
      "Epoch 20/20, Train Loss: 0.6260, Train Acc: 77.82%, Val Loss: 0.6477, Val Acc: 76.38%\n",
      "\n",
      "Testing parameters: n1 = 20, n2 = 20, activation_func = Tanh()\n",
      "Epoch 1/20, Train Loss: 0.8443, Train Acc: 76.06%, Val Loss: 0.8620, Val Acc: 75.23%\n",
      "Epoch 2/20, Train Loss: 0.6146, Train Acc: 80.31%, Val Loss: 0.6386, Val Acc: 79.13%\n",
      "Epoch 3/20, Train Loss: 0.5331, Train Acc: 82.22%, Val Loss: 0.5633, Val Acc: 81.08%\n",
      "Epoch 4/20, Train Loss: 0.4884, Train Acc: 83.75%, Val Loss: 0.5211, Val Acc: 82.38%\n",
      "Epoch 5/20, Train Loss: 0.4551, Train Acc: 84.44%, Val Loss: 0.4895, Val Acc: 82.87%\n",
      "Epoch 6/20, Train Loss: 0.4344, Train Acc: 85.25%, Val Loss: 0.4706, Val Acc: 83.95%\n",
      "Epoch 7/20, Train Loss: 0.4324, Train Acc: 84.82%, Val Loss: 0.4654, Val Acc: 83.22%\n",
      "Epoch 8/20, Train Loss: 0.4121, Train Acc: 85.83%, Val Loss: 0.4520, Val Acc: 83.97%\n",
      "Epoch 9/20, Train Loss: 0.3936, Train Acc: 86.32%, Val Loss: 0.4309, Val Acc: 84.75%\n",
      "Epoch 10/20, Train Loss: 0.3850, Train Acc: 86.50%, Val Loss: 0.4260, Val Acc: 84.93%\n",
      "Epoch 11/20, Train Loss: 0.3738, Train Acc: 86.95%, Val Loss: 0.4162, Val Acc: 85.20%\n",
      "Epoch 12/20, Train Loss: 0.3796, Train Acc: 86.71%, Val Loss: 0.4273, Val Acc: 84.88%\n",
      "Epoch 13/20, Train Loss: 0.3639, Train Acc: 87.26%, Val Loss: 0.4095, Val Acc: 85.35%\n",
      "Epoch 14/20, Train Loss: 0.3693, Train Acc: 86.82%, Val Loss: 0.4119, Val Acc: 85.10%\n",
      "Epoch 15/20, Train Loss: 0.3555, Train Acc: 87.57%, Val Loss: 0.4056, Val Acc: 85.60%\n",
      "Epoch 16/20, Train Loss: 0.3541, Train Acc: 87.46%, Val Loss: 0.4060, Val Acc: 85.55%\n",
      "Epoch 17/20, Train Loss: 0.3413, Train Acc: 88.09%, Val Loss: 0.3908, Val Acc: 86.18%\n",
      "Epoch 18/20, Train Loss: 0.3575, Train Acc: 87.31%, Val Loss: 0.4153, Val Acc: 85.33%\n",
      "Epoch 19/20, Train Loss: 0.3354, Train Acc: 88.16%, Val Loss: 0.3899, Val Acc: 86.30%\n",
      "Epoch 20/20, Train Loss: 0.3341, Train Acc: 88.22%, Val Loss: 0.3932, Val Acc: 86.07%\n",
      "\n",
      "Testing parameters: n1 = 20, n2 = 40, activation_func = Tanh()\n",
      "Epoch 1/20, Train Loss: 0.8128, Train Acc: 75.03%, Val Loss: 0.8361, Val Acc: 74.08%\n",
      "Epoch 2/20, Train Loss: 0.6056, Train Acc: 79.86%, Val Loss: 0.6371, Val Acc: 78.68%\n",
      "Epoch 3/20, Train Loss: 0.5226, Train Acc: 82.23%, Val Loss: 0.5577, Val Acc: 81.20%\n",
      "Epoch 4/20, Train Loss: 0.4795, Train Acc: 83.58%, Val Loss: 0.5160, Val Acc: 82.12%\n",
      "Epoch 5/20, Train Loss: 0.4472, Train Acc: 84.61%, Val Loss: 0.4844, Val Acc: 83.17%\n",
      "Epoch 6/20, Train Loss: 0.4321, Train Acc: 84.91%, Val Loss: 0.4684, Val Acc: 83.67%\n",
      "Epoch 7/20, Train Loss: 0.4102, Train Acc: 85.61%, Val Loss: 0.4510, Val Acc: 83.98%\n",
      "Epoch 8/20, Train Loss: 0.4023, Train Acc: 85.80%, Val Loss: 0.4437, Val Acc: 84.03%\n",
      "Epoch 9/20, Train Loss: 0.3892, Train Acc: 86.14%, Val Loss: 0.4319, Val Acc: 84.50%\n",
      "Epoch 10/20, Train Loss: 0.3824, Train Acc: 86.49%, Val Loss: 0.4282, Val Acc: 84.98%\n",
      "Epoch 11/20, Train Loss: 0.3783, Train Acc: 86.56%, Val Loss: 0.4215, Val Acc: 84.95%\n",
      "Epoch 12/20, Train Loss: 0.3653, Train Acc: 86.96%, Val Loss: 0.4137, Val Acc: 85.45%\n",
      "Epoch 13/20, Train Loss: 0.3592, Train Acc: 87.20%, Val Loss: 0.4074, Val Acc: 85.28%\n",
      "Epoch 14/20, Train Loss: 0.3513, Train Acc: 87.56%, Val Loss: 0.4038, Val Acc: 85.85%\n",
      "Epoch 15/20, Train Loss: 0.3665, Train Acc: 86.88%, Val Loss: 0.4244, Val Acc: 85.18%\n",
      "Epoch 16/20, Train Loss: 0.3473, Train Acc: 87.60%, Val Loss: 0.4021, Val Acc: 85.78%\n",
      "Epoch 17/20, Train Loss: 0.3404, Train Acc: 88.13%, Val Loss: 0.3959, Val Acc: 86.10%\n",
      "Epoch 18/20, Train Loss: 0.3378, Train Acc: 88.05%, Val Loss: 0.3936, Val Acc: 85.98%\n",
      "Epoch 19/20, Train Loss: 0.3424, Train Acc: 87.82%, Val Loss: 0.4003, Val Acc: 85.93%\n",
      "Epoch 20/20, Train Loss: 0.3337, Train Acc: 88.06%, Val Loss: 0.3941, Val Acc: 86.18%\n",
      "\n",
      "Testing parameters: n1 = 40, n2 = 20, activation_func = Tanh()\n",
      "Epoch 1/20, Train Loss: 0.8471, Train Acc: 74.22%, Val Loss: 0.8650, Val Acc: 73.37%\n",
      "Epoch 2/20, Train Loss: 0.6284, Train Acc: 79.17%, Val Loss: 0.6528, Val Acc: 77.97%\n",
      "Epoch 3/20, Train Loss: 0.5345, Train Acc: 82.06%, Val Loss: 0.5625, Val Acc: 80.65%\n",
      "Epoch 4/20, Train Loss: 0.4855, Train Acc: 83.55%, Val Loss: 0.5177, Val Acc: 82.17%\n",
      "Epoch 5/20, Train Loss: 0.4522, Train Acc: 84.40%, Val Loss: 0.4868, Val Acc: 83.13%\n",
      "Epoch 6/20, Train Loss: 0.4292, Train Acc: 85.31%, Val Loss: 0.4653, Val Acc: 83.75%\n",
      "Epoch 7/20, Train Loss: 0.4190, Train Acc: 85.33%, Val Loss: 0.4551, Val Acc: 84.28%\n",
      "Epoch 8/20, Train Loss: 0.3943, Train Acc: 86.34%, Val Loss: 0.4330, Val Acc: 84.58%\n",
      "Epoch 9/20, Train Loss: 0.3933, Train Acc: 86.07%, Val Loss: 0.4279, Val Acc: 84.92%\n",
      "Epoch 10/20, Train Loss: 0.3850, Train Acc: 86.37%, Val Loss: 0.4212, Val Acc: 85.02%\n",
      "Epoch 11/20, Train Loss: 0.3663, Train Acc: 87.25%, Val Loss: 0.4088, Val Acc: 85.68%\n",
      "Epoch 12/20, Train Loss: 0.3559, Train Acc: 87.59%, Val Loss: 0.3994, Val Acc: 86.03%\n",
      "Epoch 13/20, Train Loss: 0.3483, Train Acc: 87.78%, Val Loss: 0.3958, Val Acc: 86.25%\n",
      "Epoch 14/20, Train Loss: 0.3521, Train Acc: 87.55%, Val Loss: 0.3991, Val Acc: 85.85%\n",
      "Epoch 15/20, Train Loss: 0.3414, Train Acc: 87.93%, Val Loss: 0.3880, Val Acc: 86.15%\n",
      "Epoch 16/20, Train Loss: 0.3292, Train Acc: 88.40%, Val Loss: 0.3801, Val Acc: 86.90%\n",
      "Epoch 17/20, Train Loss: 0.3301, Train Acc: 88.41%, Val Loss: 0.3832, Val Acc: 86.68%\n",
      "Epoch 18/20, Train Loss: 0.3206, Train Acc: 88.73%, Val Loss: 0.3757, Val Acc: 86.93%\n",
      "Epoch 19/20, Train Loss: 0.3212, Train Acc: 88.58%, Val Loss: 0.3774, Val Acc: 86.85%\n",
      "Epoch 20/20, Train Loss: 0.3175, Train Acc: 88.74%, Val Loss: 0.3726, Val Acc: 86.83%\n",
      "\n",
      "Testing parameters: n1 = 40, n2 = 40, activation_func = Tanh()\n",
      "Epoch 1/20, Train Loss: 0.7550, Train Acc: 75.45%, Val Loss: 0.7752, Val Acc: 74.43%\n",
      "Epoch 2/20, Train Loss: 0.5809, Train Acc: 79.98%, Val Loss: 0.6078, Val Acc: 78.85%\n",
      "Epoch 3/20, Train Loss: 0.5055, Train Acc: 82.71%, Val Loss: 0.5366, Val Acc: 81.23%\n",
      "Epoch 4/20, Train Loss: 0.4661, Train Acc: 83.92%, Val Loss: 0.4990, Val Acc: 82.13%\n",
      "Epoch 5/20, Train Loss: 0.4386, Train Acc: 84.78%, Val Loss: 0.4744, Val Acc: 82.90%\n",
      "Epoch 6/20, Train Loss: 0.4211, Train Acc: 85.19%, Val Loss: 0.4593, Val Acc: 83.58%\n",
      "Epoch 7/20, Train Loss: 0.4079, Train Acc: 85.74%, Val Loss: 0.4486, Val Acc: 84.05%\n",
      "Epoch 8/20, Train Loss: 0.3894, Train Acc: 86.24%, Val Loss: 0.4291, Val Acc: 84.63%\n",
      "Epoch 9/20, Train Loss: 0.3803, Train Acc: 86.57%, Val Loss: 0.4210, Val Acc: 84.75%\n",
      "Epoch 10/20, Train Loss: 0.3818, Train Acc: 86.64%, Val Loss: 0.4279, Val Acc: 84.67%\n",
      "Epoch 11/20, Train Loss: 0.3608, Train Acc: 87.20%, Val Loss: 0.4048, Val Acc: 85.70%\n",
      "Epoch 12/20, Train Loss: 0.3545, Train Acc: 87.41%, Val Loss: 0.4015, Val Acc: 86.00%\n",
      "Epoch 13/20, Train Loss: 0.3467, Train Acc: 87.73%, Val Loss: 0.3925, Val Acc: 86.27%\n",
      "Epoch 14/20, Train Loss: 0.3431, Train Acc: 87.76%, Val Loss: 0.3920, Val Acc: 86.37%\n",
      "Epoch 15/20, Train Loss: 0.3423, Train Acc: 87.71%, Val Loss: 0.3903, Val Acc: 86.47%\n",
      "Epoch 16/20, Train Loss: 0.3306, Train Acc: 88.32%, Val Loss: 0.3832, Val Acc: 86.67%\n",
      "Epoch 17/20, Train Loss: 0.3353, Train Acc: 88.02%, Val Loss: 0.3921, Val Acc: 86.25%\n",
      "Epoch 18/20, Train Loss: 0.3240, Train Acc: 88.37%, Val Loss: 0.3803, Val Acc: 86.67%\n",
      "Epoch 19/20, Train Loss: 0.3230, Train Acc: 88.29%, Val Loss: 0.3783, Val Acc: 86.77%\n",
      "Epoch 20/20, Train Loss: 0.3134, Train Acc: 88.83%, Val Loss: 0.3726, Val Acc: 86.92%\n",
      "\n",
      "Testing parameters: n1 = 20, n2 = 20, activation_func = ReLU()\n",
      "Epoch 1/20, Train Loss: 0.6982, Train Acc: 74.87%, Val Loss: 0.7215, Val Acc: 74.18%\n",
      "Epoch 2/20, Train Loss: 0.5805, Train Acc: 79.35%, Val Loss: 0.6100, Val Acc: 77.98%\n",
      "Epoch 3/20, Train Loss: 0.5310, Train Acc: 81.37%, Val Loss: 0.5652, Val Acc: 79.88%\n",
      "Epoch 4/20, Train Loss: 0.4899, Train Acc: 82.70%, Val Loss: 0.5263, Val Acc: 81.62%\n",
      "Epoch 5/20, Train Loss: 0.4688, Train Acc: 83.12%, Val Loss: 0.5021, Val Acc: 82.17%\n",
      "Epoch 6/20, Train Loss: 0.4504, Train Acc: 83.83%, Val Loss: 0.4834, Val Acc: 82.48%\n",
      "Epoch 7/20, Train Loss: 0.4315, Train Acc: 84.63%, Val Loss: 0.4699, Val Acc: 83.17%\n",
      "Epoch 8/20, Train Loss: 0.4153, Train Acc: 85.16%, Val Loss: 0.4532, Val Acc: 83.93%\n",
      "Epoch 9/20, Train Loss: 0.4009, Train Acc: 85.86%, Val Loss: 0.4389, Val Acc: 84.28%\n",
      "Epoch 10/20, Train Loss: 0.4019, Train Acc: 85.46%, Val Loss: 0.4399, Val Acc: 84.15%\n",
      "Epoch 11/20, Train Loss: 0.4305, Train Acc: 84.37%, Val Loss: 0.4834, Val Acc: 82.55%\n",
      "Epoch 12/20, Train Loss: 0.3903, Train Acc: 85.91%, Val Loss: 0.4368, Val Acc: 84.45%\n",
      "Epoch 13/20, Train Loss: 0.3855, Train Acc: 86.22%, Val Loss: 0.4244, Val Acc: 84.70%\n",
      "Epoch 14/20, Train Loss: 0.3776, Train Acc: 86.54%, Val Loss: 0.4201, Val Acc: 84.98%\n",
      "Epoch 15/20, Train Loss: 0.3619, Train Acc: 87.19%, Val Loss: 0.4112, Val Acc: 85.57%\n",
      "Epoch 16/20, Train Loss: 0.3942, Train Acc: 85.54%, Val Loss: 0.4385, Val Acc: 84.40%\n",
      "Epoch 17/20, Train Loss: 0.3618, Train Acc: 87.03%, Val Loss: 0.4064, Val Acc: 85.40%\n",
      "Epoch 18/20, Train Loss: 0.3542, Train Acc: 87.49%, Val Loss: 0.4010, Val Acc: 85.77%\n",
      "Epoch 19/20, Train Loss: 0.3444, Train Acc: 87.82%, Val Loss: 0.3952, Val Acc: 86.33%\n",
      "Epoch 20/20, Train Loss: 0.3450, Train Acc: 87.78%, Val Loss: 0.3999, Val Acc: 85.90%\n",
      "\n",
      "Testing parameters: n1 = 20, n2 = 40, activation_func = ReLU()\n",
      "Epoch 1/20, Train Loss: 0.6467, Train Acc: 76.21%, Val Loss: 0.6728, Val Acc: 75.87%\n",
      "Epoch 2/20, Train Loss: 0.5274, Train Acc: 80.99%, Val Loss: 0.5610, Val Acc: 79.42%\n",
      "Epoch 3/20, Train Loss: 0.4885, Train Acc: 82.34%, Val Loss: 0.5252, Val Acc: 80.53%\n",
      "Epoch 4/20, Train Loss: 0.4478, Train Acc: 84.06%, Val Loss: 0.4841, Val Acc: 82.25%\n",
      "Epoch 5/20, Train Loss: 0.4368, Train Acc: 84.28%, Val Loss: 0.4732, Val Acc: 82.77%\n",
      "Epoch 6/20, Train Loss: 0.4276, Train Acc: 84.65%, Val Loss: 0.4636, Val Acc: 83.28%\n",
      "Epoch 7/20, Train Loss: 0.3994, Train Acc: 85.86%, Val Loss: 0.4384, Val Acc: 84.18%\n",
      "Epoch 8/20, Train Loss: 0.3966, Train Acc: 85.88%, Val Loss: 0.4363, Val Acc: 84.23%\n",
      "Epoch 9/20, Train Loss: 0.3902, Train Acc: 85.94%, Val Loss: 0.4303, Val Acc: 84.37%\n",
      "Epoch 10/20, Train Loss: 0.3905, Train Acc: 86.16%, Val Loss: 0.4315, Val Acc: 84.65%\n",
      "Epoch 11/20, Train Loss: 0.3938, Train Acc: 85.85%, Val Loss: 0.4360, Val Acc: 84.57%\n",
      "Epoch 12/20, Train Loss: 0.3642, Train Acc: 86.94%, Val Loss: 0.4132, Val Acc: 85.40%\n",
      "Epoch 13/20, Train Loss: 0.3554, Train Acc: 87.21%, Val Loss: 0.4034, Val Acc: 85.75%\n",
      "Epoch 14/20, Train Loss: 0.3637, Train Acc: 86.89%, Val Loss: 0.4168, Val Acc: 85.12%\n",
      "Epoch 15/20, Train Loss: 0.3451, Train Acc: 87.72%, Val Loss: 0.3952, Val Acc: 86.35%\n",
      "Epoch 16/20, Train Loss: 0.3599, Train Acc: 86.76%, Val Loss: 0.4109, Val Acc: 85.13%\n",
      "Epoch 17/20, Train Loss: 0.3437, Train Acc: 87.68%, Val Loss: 0.3991, Val Acc: 85.60%\n",
      "Epoch 18/20, Train Loss: 0.3452, Train Acc: 87.62%, Val Loss: 0.4004, Val Acc: 85.70%\n",
      "Epoch 19/20, Train Loss: 0.3331, Train Acc: 88.05%, Val Loss: 0.3870, Val Acc: 86.60%\n",
      "Epoch 20/20, Train Loss: 0.3317, Train Acc: 88.14%, Val Loss: 0.3897, Val Acc: 86.38%\n",
      "\n",
      "Testing parameters: n1 = 40, n2 = 20, activation_func = ReLU()\n",
      "Epoch 1/20, Train Loss: 0.6532, Train Acc: 75.60%, Val Loss: 0.6777, Val Acc: 74.77%\n",
      "Epoch 2/20, Train Loss: 0.5391, Train Acc: 80.54%, Val Loss: 0.5723, Val Acc: 79.03%\n",
      "Epoch 3/20, Train Loss: 0.4963, Train Acc: 81.96%, Val Loss: 0.5325, Val Acc: 80.57%\n",
      "Epoch 4/20, Train Loss: 0.4659, Train Acc: 83.34%, Val Loss: 0.5063, Val Acc: 81.88%\n",
      "Epoch 5/20, Train Loss: 0.4342, Train Acc: 84.62%, Val Loss: 0.4720, Val Acc: 83.23%\n",
      "Epoch 6/20, Train Loss: 0.4293, Train Acc: 84.80%, Val Loss: 0.4699, Val Acc: 83.03%\n",
      "Epoch 7/20, Train Loss: 0.4091, Train Acc: 85.54%, Val Loss: 0.4476, Val Acc: 83.82%\n",
      "Epoch 8/20, Train Loss: 0.4169, Train Acc: 84.84%, Val Loss: 0.4546, Val Acc: 83.67%\n",
      "Epoch 9/20, Train Loss: 0.3907, Train Acc: 86.05%, Val Loss: 0.4288, Val Acc: 84.73%\n",
      "Epoch 10/20, Train Loss: 0.3882, Train Acc: 85.91%, Val Loss: 0.4271, Val Acc: 84.98%\n",
      "Epoch 11/20, Train Loss: 0.3781, Train Acc: 86.37%, Val Loss: 0.4195, Val Acc: 85.12%\n",
      "Epoch 12/20, Train Loss: 0.3703, Train Acc: 86.55%, Val Loss: 0.4126, Val Acc: 85.40%\n",
      "Epoch 13/20, Train Loss: 0.3733, Train Acc: 86.42%, Val Loss: 0.4160, Val Acc: 85.33%\n",
      "Epoch 14/20, Train Loss: 0.3647, Train Acc: 86.66%, Val Loss: 0.4123, Val Acc: 85.82%\n",
      "Epoch 15/20, Train Loss: 0.3577, Train Acc: 87.00%, Val Loss: 0.4085, Val Acc: 85.60%\n",
      "Epoch 16/20, Train Loss: 0.3433, Train Acc: 87.65%, Val Loss: 0.3957, Val Acc: 86.40%\n",
      "Epoch 17/20, Train Loss: 0.3502, Train Acc: 87.17%, Val Loss: 0.3987, Val Acc: 86.28%\n",
      "Epoch 18/20, Train Loss: 0.3364, Train Acc: 87.88%, Val Loss: 0.3910, Val Acc: 86.47%\n",
      "Epoch 19/20, Train Loss: 0.3397, Train Acc: 87.92%, Val Loss: 0.4000, Val Acc: 86.12%\n",
      "Epoch 20/20, Train Loss: 0.3245, Train Acc: 88.27%, Val Loss: 0.3791, Val Acc: 87.17%\n",
      "\n",
      "Testing parameters: n1 = 40, n2 = 40, activation_func = ReLU()\n",
      "Epoch 1/20, Train Loss: 0.6322, Train Acc: 77.40%, Val Loss: 0.6631, Val Acc: 76.62%\n",
      "Epoch 2/20, Train Loss: 0.5263, Train Acc: 81.03%, Val Loss: 0.5608, Val Acc: 79.37%\n",
      "Epoch 3/20, Train Loss: 0.4805, Train Acc: 82.51%, Val Loss: 0.5164, Val Acc: 81.07%\n",
      "Epoch 4/20, Train Loss: 0.4616, Train Acc: 83.30%, Val Loss: 0.4964, Val Acc: 81.70%\n",
      "Epoch 5/20, Train Loss: 0.4332, Train Acc: 84.42%, Val Loss: 0.4712, Val Acc: 82.67%\n",
      "Epoch 6/20, Train Loss: 0.4278, Train Acc: 84.41%, Val Loss: 0.4686, Val Acc: 83.00%\n",
      "Epoch 7/20, Train Loss: 0.4030, Train Acc: 85.46%, Val Loss: 0.4431, Val Acc: 83.95%\n",
      "Epoch 8/20, Train Loss: 0.3964, Train Acc: 85.77%, Val Loss: 0.4421, Val Acc: 84.10%\n",
      "Epoch 9/20, Train Loss: 0.3815, Train Acc: 86.29%, Val Loss: 0.4236, Val Acc: 85.03%\n",
      "Epoch 10/20, Train Loss: 0.3964, Train Acc: 85.85%, Val Loss: 0.4502, Val Acc: 84.23%\n",
      "Epoch 11/20, Train Loss: 0.3743, Train Acc: 86.54%, Val Loss: 0.4198, Val Acc: 85.28%\n",
      "Epoch 12/20, Train Loss: 0.3611, Train Acc: 87.08%, Val Loss: 0.4110, Val Acc: 85.68%\n",
      "Epoch 13/20, Train Loss: 0.3597, Train Acc: 86.92%, Val Loss: 0.4062, Val Acc: 85.62%\n",
      "Epoch 14/20, Train Loss: 0.3548, Train Acc: 87.21%, Val Loss: 0.4132, Val Acc: 85.50%\n",
      "Epoch 15/20, Train Loss: 0.3441, Train Acc: 87.78%, Val Loss: 0.3968, Val Acc: 86.30%\n",
      "Epoch 16/20, Train Loss: 0.3510, Train Acc: 87.31%, Val Loss: 0.4102, Val Acc: 85.92%\n",
      "Epoch 17/20, Train Loss: 0.3369, Train Acc: 87.80%, Val Loss: 0.3959, Val Acc: 86.23%\n",
      "Epoch 18/20, Train Loss: 0.3346, Train Acc: 87.85%, Val Loss: 0.3930, Val Acc: 86.37%\n",
      "Epoch 19/20, Train Loss: 0.3449, Train Acc: 87.37%, Val Loss: 0.4023, Val Acc: 85.88%\n",
      "Epoch 20/20, Train Loss: 0.3246, Train Acc: 88.38%, Val Loss: 0.3863, Val Acc: 86.70%\n",
      "Best Params: {'activation_func': ReLU(), 'n1': 40, 'n2': 20}, Best Validation Accuracy: 87.17%\n"
     ]
    }
   ],
   "source": [
    "epochs = 20\n",
    "best_accuracy = 0.0\n",
    "best_params = None\n",
    "\n",
    "for params in grid:\n",
    "    print(f\"\\nTesting parameters: n1 = {params['n1']}, n2 = {params['n2']}, activation_func = {params['activation_func']}\")\n",
    "    model = CustomFeedForwardNN(params['n1'], params['n2'], params['activation_func']).to(device)\n",
    "    loss_fn = nn.CrossEntropyLoss()\n",
    "    optimizer = optim.SGD(model.parameters(), lr=0.01)\n",
    "    for epoch in range(epochs):\n",
    "        model.train()\n",
    "        for images, labels in train_loader:\n",
    "            images, labels = images.to(device), labels.to(device)\n",
    "            outputs = model(images)\n",
    "            loss = loss_fn(outputs, labels)\n",
    "            optimizer.zero_grad()\n",
    "            loss.backward()\n",
    "            optimizer.step()\n",
    "        train_acc = compute_acc(model, train_loader)\n",
    "        train_loss = compute_loss(model, train_loader)\n",
    "        val_acc = compute_acc(model, val_loader)\n",
    "        val_loss = compute_loss(model, val_loader)\n",
    "        print(f\"Epoch {epoch+1}/{epochs}, Train Loss: {train_loss:.4f}, Train Acc: {train_acc*100:.2f}%, Val Loss: {val_loss:.4f}, Val Acc: {val_acc*100:.2f}%\")\n",
    "        if val_acc > best_accuracy:\n",
    "            best_accuracy = val_acc\n",
    "            best_params = params\n",
    "\n",
    "print(f'Best Params: {best_params}, Best Validation Accuracy: {best_accuracy*100:.2f}%')"
   ]
  },
  {
   "cell_type": "markdown",
   "metadata": {
    "id": "1S8V-qxfuuSJ"
   },
   "source": [
    "####  <span style=\"color:red\">**Question 2.4:**</span> Implement the loss with the form: $loss(p,y)=CE(1_{y},p)+\\lambda H(p)$ where $H(p)=-\\sum_{i=1}^{M}p_{i}\\log p_{i}$ is the entropy of $p$, $p$ is the prediction probabilities of a data point $x$ with the ground-truth label $y$, $1_y$ is an one-hot label, and $\\lambda >0$ is a trade-off parameter. Set $\\lambda = 0.1$ to train a model.\n",
    "\n",
    "<div style=\"text-align: right\"> <span style=\"color:red\">[5 points]</span> </div>\n"
   ]
  },
  {
   "cell_type": "markdown",
   "metadata": {},
   "source": [
    "The specific form of the loss function is as follows:\n",
    "$$\n",
    "\\text{loss}(p, y) = CE(1_y, p) + \\lambda H(p)\n",
    "$$\n",
    "Where:\n",
    "- CE is the cross-entropy loss.\n",
    "- $H(p) = -\\sum_{i=1}^M p_i \\log p_i$ is the entropy of $p$.\n",
    "- $p$ is the model's output (i.e., the predicted probability distribution), and $y$ is the true label.\n",
    "- $\\lambda$ is a hyperparameter that controls the weight of the entropy term in the loss."
   ]
  },
  {
   "cell_type": "code",
   "execution_count": 15,
   "metadata": {
    "id": "1hyqGH8EwcDb"
   },
   "outputs": [],
   "source": [
    "#Your code here\n",
    "class CustomLoss(nn.Module):\n",
    "    \n",
    "    def __init__(self, lambda_value=0.1):\n",
    "        super(CustomLoss, self).__init__()\n",
    "        self.lambda_value = lambda_value # weight of the entropy term\n",
    "        \n",
    "    def forward(self, outputs, targets):\n",
    "        # Cross-entropy loss\n",
    "        ce_loss = F.cross_entropy(outputs, targets)\n",
    "        \n",
    "        # Calculate the entropy term\n",
    "        probs = F.softmax(outputs, dim=1)\n",
    "        entropy_loss = -torch.sum(probs * torch.log(probs + 1e-9), dim=1).mean() # Prevent log(0)\n",
    "        \n",
    "        # Total loss = Cross-entropy loss + Entropy term\n",
    "        total_loss = ce_loss + self.lambda_value * entropy_loss\n",
    "        return total_loss"
   ]
  },
  {
   "cell_type": "code",
   "execution_count": 16,
   "metadata": {},
   "outputs": [
    {
     "name": "stdout",
     "output_type": "stream",
     "text": [
      "Epoch 1/20, Train Loss: 0.7315, Train Acc: 75.79%, Val Loss: 0.7596, Val Acc: 75.25%\n",
      "Epoch 2/20, Train Loss: 0.6113, Train Acc: 80.19%, Val Loss: 0.6459, Val Acc: 79.22%\n",
      "Epoch 3/20, Train Loss: 0.5400, Train Acc: 82.48%, Val Loss: 0.5783, Val Acc: 81.42%\n",
      "Epoch 4/20, Train Loss: 0.5128, Train Acc: 83.42%, Val Loss: 0.5557, Val Acc: 81.68%\n",
      "Epoch 5/20, Train Loss: 0.4775, Train Acc: 84.64%, Val Loss: 0.5199, Val Acc: 82.98%\n",
      "Epoch 6/20, Train Loss: 0.4609, Train Acc: 85.19%, Val Loss: 0.5040, Val Acc: 83.62%\n",
      "Epoch 7/20, Train Loss: 0.4607, Train Acc: 85.09%, Val Loss: 0.5059, Val Acc: 83.63%\n",
      "Epoch 8/20, Train Loss: 0.4335, Train Acc: 86.00%, Val Loss: 0.4802, Val Acc: 84.50%\n",
      "Epoch 9/20, Train Loss: 0.4202, Train Acc: 86.50%, Val Loss: 0.4681, Val Acc: 84.72%\n",
      "Epoch 10/20, Train Loss: 0.4157, Train Acc: 86.51%, Val Loss: 0.4652, Val Acc: 84.85%\n",
      "Epoch 11/20, Train Loss: 0.4073, Train Acc: 86.78%, Val Loss: 0.4587, Val Acc: 85.35%\n",
      "Epoch 12/20, Train Loss: 0.4174, Train Acc: 86.22%, Val Loss: 0.4720, Val Acc: 84.53%\n",
      "Epoch 13/20, Train Loss: 0.3934, Train Acc: 87.09%, Val Loss: 0.4462, Val Acc: 85.80%\n",
      "Epoch 14/20, Train Loss: 0.3967, Train Acc: 86.92%, Val Loss: 0.4524, Val Acc: 85.15%\n",
      "Epoch 15/20, Train Loss: 0.3804, Train Acc: 87.57%, Val Loss: 0.4382, Val Acc: 86.03%\n",
      "Epoch 16/20, Train Loss: 0.3825, Train Acc: 87.28%, Val Loss: 0.4400, Val Acc: 85.75%\n",
      "Epoch 17/20, Train Loss: 0.3666, Train Acc: 88.14%, Val Loss: 0.4291, Val Acc: 86.23%\n",
      "Epoch 18/20, Train Loss: 0.3740, Train Acc: 87.68%, Val Loss: 0.4402, Val Acc: 85.85%\n",
      "Epoch 19/20, Train Loss: 0.3686, Train Acc: 87.79%, Val Loss: 0.4299, Val Acc: 86.15%\n",
      "Epoch 20/20, Train Loss: 0.3583, Train Acc: 88.25%, Val Loss: 0.4249, Val Acc: 86.90%\n"
     ]
    }
   ],
   "source": [
    "model = CustomFeedForwardNN(n1=40, n2=20, activation_func=nn.ReLU()).to(device)\n",
    "loss_fn = CustomLoss(lambda_value=0.1)\n",
    "optimizer = optim.SGD(model.parameters(), lr=0.01)\n",
    "\n",
    "# train the model\n",
    "epochs = 20\n",
    "for epoch in range(epochs):\n",
    "    model.train()\n",
    "    for images, labels in train_loader:\n",
    "        images, labels = images.to(device), labels.to(device)\n",
    "        outputs = model(images)\n",
    "        loss = loss_fn(outputs, labels)\n",
    "        optimizer.zero_grad()\n",
    "        loss.backward()\n",
    "        optimizer.step()\n",
    "    train_acc = compute_acc(model, train_loader)\n",
    "    train_loss = compute_loss(model, train_loader)\n",
    "    val_acc = compute_acc(model, val_loader)\n",
    "    val_loss = compute_loss(model, val_loader)\n",
    "    print(f\"Epoch {epoch+1}/{epochs}, Train Loss: {train_loss:.4f}, Train Acc: {train_acc*100:.2f}%, Val Loss: {val_loss:.4f}, Val Acc: {val_acc*100:.2f}%\")"
   ]
  },
  {
   "cell_type": "code",
   "execution_count": 17,
   "metadata": {},
   "outputs": [
    {
     "name": "stdout",
     "output_type": "stream",
     "text": [
      "Accuracy of the network on the test set: 86.21%\n"
     ]
    }
   ],
   "source": [
    "test_acc = compute_acc(model, test_loader)\n",
    "\n",
    "print(f'Accuracy of the network on the test set: {test_acc*100:.2f}%')"
   ]
  },
  {
   "cell_type": "markdown",
   "metadata": {
    "id": "XE6eTfjyFogJ"
   },
   "source": [
    "####  <span style=\"color:red\">**Question 2.5:**</span> Experimenting with **sharpness-aware minimization** technique\n",
    "<div style=\"text-align: right\"> <span style=\"color:red\">[5 points]</span> </div>\n",
    "\n",
    "Sharpness-aware minimization (SAM) (i.e., [link for main paper](https://openreview.net/pdf?id=6Tm1mposlrM) from Google Deepmind) is a simple yet but efficient technique to improve the generalization ability of deep learning models on unseen data examples. In your research or your work, you might potentially use this idea. Your task is to read the paper and implement *Sharpness-aware minimization (SAM)*. Finally, you need to apply SAM to the best architecture found in **Question 2.3**.   "
   ]
  },
  {
   "cell_type": "markdown",
   "metadata": {},
   "source": [
    "Sharpness-Aware Minimisation (SAM) is an advanced optimisation technique designed to improve the generalisation ability of machine learning models. SAM achieves this by minimising both the value of the loss function and the \"sharpness\" of the loss function, thereby finding optimal model parameters that avoid overfitting to the training data.\n",
    "\n",
    "Sharpness of the loss function:\n",
    "- Sharpness refers to how \"steep\" or \"flat\" the loss function curve is in the parameter space.\n",
    "- A sharp loss curve indicates that the model's parameters are highly sensitive to small perturbations, which can lead to overfitting on the training data.\n",
    "- A flat or smooth loss curve indicates that the model's parameters are less sensitive to small changes, often leading to better generalisation.\n",
    "\n",
    "Objective of SAM:\n",
    "- SAM aims to find parameters that not only minimise the training loss but also ensure the loss function is flat around the minimum. This is done by solving a min-max optimisation problem to find a global optimum that avoids sharp local minima.\n",
    "\n",
    "$$\n",
    "\\min_w \\max_{\\|\\epsilon\\|_p \\leq \\rho} \\mathcal{L}(w + \\epsilon)\n",
    "$$\n",
    "\n",
    "Where:\n",
    "- $w$ represents the model parameters.\n",
    "- $\\mathcal{L}(w+\\epsilon)$ is the loss function (e.g., cross-entropy loss) evaluated at the perturbed parameters $w+\\epsilon$.\n",
    "- $\\|\\epsilon\\|_p \\leq \\rho$ restricts the perturbation $\\epsilon$ to be within a ball of radius $\\rho$ in the $p$-norm.\n",
    "\n",
    "The goal is to find parameters $w$ such that the loss $\\mathcal{L}$ is minimised even under small perturbations $\\epsilon$, resulting in a model with better generalisation.\n",
    "\n",
    "SAM employs a two-step optimisation strategy:\n",
    "1. Perturb the Parameters:\n",
    "    - Compute the gradient of the loss with respect to the current parameters $w$, denoted as $\\nabla_w \\mathcal{L}(w)$.\n",
    "    - Compute the perturbation $\\epsilon = \\rho \\frac{\\nabla_w \\mathcal{L}(w)}{\\|\\nabla_w \\mathcal{L}(w)\\|_2}$ and apply it to the parameters: $w^{\\prime} = w + \\epsilon$.\n",
    "2. Restore and Update Parameters:\n",
    "    - Use the perturbed parameters $w^{\\prime}$ to compute the loss and update the original parameters $w$ based on the gradient of this perturbed loss.\n",
    "    - After the update, restore the parameters $w^{\\prime}$ to their original values $w$ and proceed with a standard gradient descent update."
   ]
  },
  {
   "cell_type": "code",
   "execution_count": 18,
   "metadata": {
    "ExecuteTime": {
     "end_time": "2024-08-25T06:26:42.609608Z",
     "start_time": "2024-08-25T06:26:42.587477Z"
    },
    "id": "jVY6Zn32FdTW"
   },
   "outputs": [],
   "source": [
    "#Your code here\n",
    "class SAM:\n",
    "    \n",
    "    def __init__(self, base_optimiser, rho=0.05):\n",
    "        self.base_optimiser = base_optimiser\n",
    "        self.rho = rho\n",
    "        self.param_groups = self.base_optimiser.param_groups\n",
    "        self.state = {} # Initialise the state dictionary\n",
    "        \n",
    "    @torch.no_grad() \n",
    "    def first_step(self, zero_grad=False):\n",
    "        grad_norm = self._grad_norm()\n",
    "        for group in self.param_groups:\n",
    "            scale = self.rho / (grad_norm + 1e-12) # Scale the perturbation\n",
    "            for p in group['params']:\n",
    "                if p.grad is None:\n",
    "                    continue\n",
    "                if p not in self.state:\n",
    "                    self.state[p] = {} # Ensure there's an entry in the state for each parameter\n",
    "                self.state[p]['old_p'] = p.data.clone() # Save the original parameter value\n",
    "                e_w = p.grad * scale.to(p) # Calculate perturbation\n",
    "                p.add_(e_w) # Apply perturbation to the parameter\n",
    "        if zero_grad:\n",
    "            self.zero_grad()\n",
    "            \n",
    "    @torch.no_grad()\n",
    "    def second_step(self, zero_grad=False):\n",
    "        for group in self.param_groups:\n",
    "            for p in group['params']:\n",
    "                if p.grad is None:\n",
    "                    continue\n",
    "                p.data = self.state[p]['old_p'] # Restore the original parameter value\n",
    "        self.base_optimiser.step() # Perform the standard optimiser step\n",
    "        if zero_grad:\n",
    "            self.zero_grad()\n",
    "            \n",
    "    def _grad_norm(self):\n",
    "        # Calculate the norm of the gradients\n",
    "        norm = torch.norm(torch.stack([\n",
    "            p.grad.norm(p=2)\n",
    "            for group in self.param_groups for p in group['params']\n",
    "            if p.grad is not None\n",
    "        ]))\n",
    "        return norm\n",
    "    \n",
    "    def zero_grad(self):\n",
    "        self.base_optimiser.zero_grad()"
   ]
  },
  {
   "cell_type": "code",
   "execution_count": 19,
   "metadata": {},
   "outputs": [
    {
     "name": "stdout",
     "output_type": "stream",
     "text": [
      "Epoch 1/20, Train Loss: 0.7521, Train Acc: 75.10%, Val Loss: 0.7759, Val Acc: 74.58%\n",
      "Epoch 2/20, Train Loss: 0.6213, Train Acc: 79.49%, Val Loss: 0.6563, Val Acc: 78.30%\n",
      "Epoch 3/20, Train Loss: 0.5581, Train Acc: 82.00%, Val Loss: 0.5974, Val Acc: 80.63%\n",
      "Epoch 4/20, Train Loss: 0.5283, Train Acc: 82.76%, Val Loss: 0.5714, Val Acc: 81.23%\n",
      "Epoch 5/20, Train Loss: 0.5007, Train Acc: 83.73%, Val Loss: 0.5449, Val Acc: 82.15%\n",
      "Epoch 6/20, Train Loss: 0.4831, Train Acc: 84.40%, Val Loss: 0.5275, Val Acc: 82.50%\n",
      "Epoch 7/20, Train Loss: 0.4655, Train Acc: 85.04%, Val Loss: 0.5109, Val Acc: 82.98%\n",
      "Epoch 8/20, Train Loss: 0.4523, Train Acc: 85.52%, Val Loss: 0.4976, Val Acc: 83.60%\n",
      "Epoch 9/20, Train Loss: 0.4403, Train Acc: 85.83%, Val Loss: 0.4852, Val Acc: 83.97%\n",
      "Epoch 10/20, Train Loss: 0.4371, Train Acc: 85.82%, Val Loss: 0.4816, Val Acc: 84.10%\n",
      "Epoch 11/20, Train Loss: 0.4310, Train Acc: 86.01%, Val Loss: 0.4799, Val Acc: 84.23%\n",
      "Epoch 12/20, Train Loss: 0.4169, Train Acc: 86.40%, Val Loss: 0.4641, Val Acc: 84.70%\n",
      "Epoch 13/20, Train Loss: 0.4095, Train Acc: 86.71%, Val Loss: 0.4585, Val Acc: 84.92%\n",
      "Epoch 14/20, Train Loss: 0.4053, Train Acc: 86.82%, Val Loss: 0.4535, Val Acc: 84.92%\n",
      "Epoch 15/20, Train Loss: 0.4020, Train Acc: 86.87%, Val Loss: 0.4522, Val Acc: 85.00%\n",
      "Epoch 16/20, Train Loss: 0.3978, Train Acc: 87.01%, Val Loss: 0.4491, Val Acc: 85.17%\n",
      "Epoch 17/20, Train Loss: 0.3895, Train Acc: 87.38%, Val Loss: 0.4413, Val Acc: 85.12%\n",
      "Epoch 18/20, Train Loss: 0.3829, Train Acc: 87.61%, Val Loss: 0.4349, Val Acc: 85.43%\n",
      "Epoch 19/20, Train Loss: 0.3855, Train Acc: 87.34%, Val Loss: 0.4412, Val Acc: 85.10%\n",
      "Epoch 20/20, Train Loss: 0.3755, Train Acc: 87.76%, Val Loss: 0.4280, Val Acc: 85.78%\n"
     ]
    }
   ],
   "source": [
    "model = CustomFeedForwardNN(n1=40, n2=20, activation_func=nn.ReLU()).to(device)\n",
    "base_optimiser = optim.SGD(model.parameters(), lr=0.01)\n",
    "optimiser = SAM(base_optimiser)\n",
    "loss_fn = CustomLoss(lambda_value=0.1)\n",
    "\n",
    "# train the model\n",
    "epochs = 20\n",
    "for epoch in range(epochs):\n",
    "    model.train()\n",
    "    for images, labels in train_loader:\n",
    "        images, labels = images.to(device), labels.to(device)\n",
    "        # Step 1: Calculate the original loss and apply perturbation\n",
    "        outputs = model(images)\n",
    "        loss = loss_fn(outputs, labels)\n",
    "        loss.backward()\n",
    "        optimiser.first_step(zero_grad=True)\n",
    "        # Step 2: Calculate the loss with perturbed parameters and update parameters\n",
    "        outputs = model(images)\n",
    "        loss = loss_fn(outputs, labels)\n",
    "        loss.backward()\n",
    "        optimiser.second_step(zero_grad=True)\n",
    "    train_acc = compute_acc(model, train_loader)\n",
    "    train_loss = compute_loss(model, train_loader)\n",
    "    val_acc = compute_acc(model, val_loader)\n",
    "    val_loss = compute_loss(model, val_loader)\n",
    "    print(f\"Epoch {epoch+1}/{epochs}, Train Loss: {train_loss:.4f}, Train Acc: {train_acc*100:.2f}%, Val Loss: {val_loss:.4f}, Val Acc: {val_acc*100:.2f}%\")"
   ]
  },
  {
   "cell_type": "code",
   "execution_count": 20,
   "metadata": {},
   "outputs": [
    {
     "name": "stdout",
     "output_type": "stream",
     "text": [
      "Accuracy of the network on the test set: 86.04%\n"
     ]
    }
   ],
   "source": [
    "test_acc = compute_acc(model, test_loader)\n",
    "\n",
    "print(f'Accuracy of the network on the test set: {test_acc*100:.2f}%')"
   ]
  }
 ],
 "metadata": {
  "colab": {
   "provenance": []
  },
  "kernelspec": {
   "display_name": "Python 3 (ipykernel)",
   "language": "python",
   "name": "python3"
  },
  "language_info": {
   "codemirror_mode": {
    "name": "ipython",
    "version": 3
   },
   "file_extension": ".py",
   "mimetype": "text/x-python",
   "name": "python",
   "nbconvert_exporter": "python",
   "pygments_lexer": "ipython3",
   "version": "3.12.4"
  },
  "toc": {
   "base_numbering": 1,
   "nav_menu": {},
   "number_sections": true,
   "sideBar": true,
   "skip_h1_title": false,
   "title_cell": "Table of Contents",
   "title_sidebar": "Contents",
   "toc_cell": false,
   "toc_position": {},
   "toc_section_display": true,
   "toc_window_display": false
  }
 },
 "nbformat": 4,
 "nbformat_minor": 4
}
